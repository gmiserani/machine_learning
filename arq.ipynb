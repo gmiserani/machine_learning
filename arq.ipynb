{
 "cells": [
  {
   "cell_type": "code",
   "execution_count": 4,
   "metadata": {},
   "outputs": [
    {
     "ename": "SyntaxError",
     "evalue": "invalid syntax (3512973946.py, line 2)",
     "output_type": "error",
     "traceback": [
      "\u001b[0;36m  Cell \u001b[0;32mIn[4], line 2\u001b[0;36m\u001b[0m\n\u001b[0;31m    import pandas from \"/usr/local/lib/python3.10/site-packages\"\u001b[0m\n\u001b[0m                  ^\u001b[0m\n\u001b[0;31mSyntaxError\u001b[0m\u001b[0;31m:\u001b[0m invalid syntax\n"
     ]
    }
   ],
   "source": [
    "import numpy\n",
    "import pandas from \"/usr/local/lib/python3.10/site-packages\""
   ]
  },
  {
   "cell_type": "markdown",
   "metadata": {},
   "source": [
    "pontos = linhas\n",
    "atributos de cada ponto [20] = colunas"
   ]
  },
  {
   "cell_type": "code",
   "execution_count": null,
   "metadata": {},
   "outputs": [],
   "source": [
    "def confusion_matrix_manual(predicted_labels, ground_truth_labels):\n",
    "        true_positives = 0\n",
    "        false_positives = 0\n",
    "        true_negatives = 0\n",
    "        false_negatives = 0\n",
    "        \n",
    "        for i in range(len(predicted_labels)):\n",
    "            if predicted_labels[i] == 1 and ground_truth_labels[i] == 1:\n",
    "                true_positives += 1\n",
    "            elif predicted_labels[i] == 1 and ground_truth_labels[i] == 0:\n",
    "                false_positives += 1\n",
    "            elif predicted_labels[i] == 0 and ground_truth_labels[i] == 0:\n",
    "                true_negatives += 1\n",
    "            elif predicted_labels[i] == 0 and ground_truth_labels[i] == 1:\n",
    "                false_negatives += 1\n",
    "        \n",
    "        return true_positives, false_positives, true_negatives, false_negatives"
   ]
  },
  {
   "cell_type": "code",
   "execution_count": null,
   "metadata": {},
   "outputs": [],
   "source": [
    "def knn(data, query, k):\n",
    "    # Calculate Euclidean distance between query point and each data point\n",
    "    distances = np.sqrt(np.sum((data[:, :-1] - query[:-1])**2, axis=1))\n",
    "    \n",
    "    # Sort distances in ascending order and select top k nearest neighbors\n",
    "    nearest_neighbors = distances.argsort()[:k]\n",
    "    \n",
    "    # Count the number of nearest neighbors with a value of 1 and 0 for the last variable\n",
    "    num_ones = np.count_nonzero(data[nearest_neighbors, -1] == 1)\n",
    "    num_zeros = np.count_nonzero(data[nearest_neighbors, -1] == 0)\n",
    "    \n",
    "    # Determine the label of the query point based on the counts\n",
    "    if num_ones > num_zeros:\n",
    "        query_label = 1\n",
    "    else:\n",
    "        query_label = 0\n",
    "    \n",
    "    return query_label\n",
    "\n"
   ]
  },
  {
   "cell_type": "code",
   "execution_count": null,
   "metadata": {},
   "outputs": [],
   "source": [
    "def calculate_metrics(confusion_matrix):\n",
    "    true_positives, false_positives, true_negatives, false_negatives = confusion_matrix\n",
    "    \n",
    "    accuracy = (true_positives + true_negatives) / (true_positives + true_negatives + false_positives + false_negatives)\n",
    "    precision = true_positives / (true_positives + false_positives)\n",
    "    recall = true_positives / (true_positives + false_negatives)\n",
    "    f1_score = 2 * (precision * recall) / (precision + recall)\n",
    "    \n",
    "    return accuracy, precision, recall, f1_score\n",
    "\n",
    "# Example usage\n",
    "confusion_matrix = confusion_matrix_manual(predicted_labels, ground_truth_labels)\n",
    "accuracy, precision, recall, f1_score = calculate_metrics(confusion_matrix)\n"
   ]
  },
  {
   "cell_type": "code",
   "execution_count": null,
   "metadata": {},
   "outputs": [],
   "source": [
    "import pandas as pd\n",
    "\n",
    "# Read the training data from \"nba_treino.csv\"\n",
    "nba_treino = pd.read_csv(\"nba_treino.csv\")\n",
    "\n",
    "# Read the test data from \"nba_teste.csv\"\n",
    "nba_teste = pd.read_csv(\"nba_teste.csv\")\n",
    "\n",
    "# Iterate over each row in the test data\n",
    "for index, row in nba_teste.iterrows():\n",
    "    # Get the data from the current row\n",
    "    query_data = row.values\n",
    "    \n",
    "    # Call the functions with the data from the training data\n",
    "    predicted_labels = knn(nba_treino.values, query_data, k)\n",
    "    confusion_matrix = confusion_matrix_manual(predicted_labels, nba_treino[\"Label\"].values)\n",
    "    accuracy, precision, recall, f1_score = calculate_metrics(confusion_matrix)\n",
    "    \n",
    "    # Print the metrics for the current row\n",
    "    print(f\"Metrics for row {index}:\")\n",
    "    print(f\"Accuracy: {accuracy}\")\n",
    "    print(f\"Precision: {precision}\")\n",
    "    print(f\"Recall: {recall}\")\n",
    "    print(f\"F1 Score: {f1_score}\")\n",
    "    print()\n"
   ]
  },
  {
   "cell_type": "markdown",
   "metadata": {},
   "source": []
  }
 ],
 "metadata": {
  "kernelspec": {
   "display_name": "Python 3",
   "language": "python",
   "name": "python3"
  },
  "language_info": {
   "codemirror_mode": {
    "name": "ipython",
    "version": 3
   },
   "file_extension": ".py",
   "mimetype": "text/x-python",
   "name": "python",
   "nbconvert_exporter": "python",
   "pygments_lexer": "ipython3",
   "version": "3.11.3"
  },
  "orig_nbformat": 4
 },
 "nbformat": 4,
 "nbformat_minor": 2
}
