{
 "cells": [
  {
   "cell_type": "code",
   "execution_count": 1,
   "metadata": {},
   "outputs": [],
   "source": [
    "import numpy as np"
   ]
  },
  {
   "cell_type": "markdown",
   "metadata": {},
   "source": [
    "pontos = linhas\n",
    "atributos de cada ponto [20] = colunas"
   ]
  },
  {
   "cell_type": "code",
   "execution_count": 5,
   "metadata": {},
   "outputs": [],
   "source": [
    "def confusion_matrix_manual(predicted_labels, ground_truth_labels):\n",
    "        true_positives = 0\n",
    "        false_positives = 0\n",
    "        true_negatives = 0\n",
    "        false_negatives = 0\n",
    "        \n",
    "        for i in range(len(predicted_labels)):\n",
    "            if predicted_labels[i] == 1 and ground_truth_labels[i] == 1:\n",
    "                true_positives += 1\n",
    "            elif predicted_labels[i] == 1 and ground_truth_labels[i] == 0:\n",
    "                false_positives += 1\n",
    "            elif predicted_labels[i] == 0 and ground_truth_labels[i] == 0:\n",
    "                true_negatives += 1\n",
    "            elif predicted_labels[i] == 0 and ground_truth_labels[i] == 1:\n",
    "                false_negatives += 1\n",
    "        \n",
    "        return true_positives, false_positives, true_negatives, false_negatives"
   ]
  },
  {
   "cell_type": "code",
   "execution_count": 3,
   "metadata": {},
   "outputs": [],
   "source": [
    "def knn(data, query, k):\n",
    "    # Calculate Euclidean distance between query point and each data point\n",
    "    distances = np.sqrt(np.sum((data[:, :-1] - query[:-1])**2, axis=1))\n",
    "    \n",
    "    # Sort distances in ascending order and select top k nearest neighbors\n",
    "    nearest_neighbors = distances.argsort()[:k]\n",
    "    \n",
    "    # Count the number of nearest neighbors with a value of 1 and 0 for the last variable\n",
    "    num_ones = np.count_nonzero(data[nearest_neighbors, -1] == 1)\n",
    "    num_zeros = np.count_nonzero(data[nearest_neighbors, -1] == 0)\n",
    "    \n",
    "    # Determine the label of the query point based on the counts\n",
    "    if num_ones > num_zeros:\n",
    "        query_label = 1\n",
    "    else:\n",
    "        query_label = 0\n",
    "    \n",
    "    return query_label\n",
    "\n"
   ]
  },
  {
   "cell_type": "code",
   "execution_count": 6,
   "metadata": {},
   "outputs": [],
   "source": [
    "def calculate_metrics(confusion_matrix):\n",
    "    true_positives, false_positives, true_negatives, false_negatives = confusion_matrix\n",
    "    \n",
    "    accuracy = (true_positives + true_negatives) / (true_positives + true_negatives + false_positives + false_negatives)\n",
    "    precision = true_positives / (true_positives + false_positives)\n",
    "    recall = true_positives / (true_positives + false_negatives)\n",
    "    f1_score = 2 * (precision * recall) / (precision + recall)\n",
    "    \n",
    "    return accuracy, precision, recall, f1_score\n",
    "\n"
   ]
  },
  {
   "cell_type": "code",
   "execution_count": 15,
   "metadata": {},
   "outputs": [
    {
     "name": "stdout",
     "output_type": "stream",
     "text": [
      "Metrics for points with k = 2\n",
      "Accuracy: 0.48507462686567165\n",
      "Precision: 0.5742574257425742\n",
      "Recall: 0.3790849673202614\n",
      "F1 Score: 0.4566929133858268\n",
      "\n",
      "Metrics for points with k = 10\n",
      "Accuracy: 0.4925373134328358\n",
      "Precision: 0.5555555555555556\n",
      "Recall: 0.5555555555555556\n",
      "F1 Score: 0.5555555555555556\n",
      "\n",
      "Metrics for points with k = 50\n",
      "Accuracy: 0.503731343283582\n",
      "Precision: 0.5581395348837209\n",
      "Recall: 0.6274509803921569\n",
      "F1 Score: 0.5907692307692307\n",
      "\n",
      "Metrics for points with k = 150\n",
      "Accuracy: 0.5111940298507462\n",
      "Precision: 0.563953488372093\n",
      "Recall: 0.6339869281045751\n",
      "F1 Score: 0.5969230769230769\n",
      "\n"
     ]
    }
   ],
   "source": [
    "import pandas as pd\n",
    "\n",
    "# Read the training data from \"nba_treino.csv\"\n",
    "nba_treino = pd.read_csv(\"nba_treino.csv\")\n",
    "\n",
    "\n",
    "# Read the test data from \"nba_teste.csv\"\n",
    "nba_teste = pd.read_csv(\"nba_teste.csv\")\n",
    "for k in [2, 10, 50, 150]:\n",
    "    predicted_labels = np.zeros(nba_teste.shape[0])\n",
    "    i = 0\n",
    "\n",
    "    # Iterate over each row in the test data\n",
    "    for index, row in nba_teste.iterrows():\n",
    "        # Get the data from the current row\n",
    "        query_data = row.values    \n",
    "        # Call the functions with the data from the training data\n",
    "        predicted_labels[i] = knn(nba_treino.values, query_data, k)\n",
    "        i += 1\n",
    "    confusion_matrix = confusion_matrix_manual(predicted_labels, nba_treino[\"TARGET_5Yrs\"].values)\n",
    "    accuracy, precision, recall, f1_score = calculate_metrics(confusion_matrix)\n",
    "\n",
    "    # Print the metrics for the current row\n",
    "    print(f\"Metrics for points with k = {k}\")\n",
    "    print(f\"Accuracy: {accuracy}\")\n",
    "    print(f\"Precision: {precision}\")\n",
    "    print(f\"Recall: {recall}\")\n",
    "    print(f\"F1 Score: {f1_score}\")\n",
    "    print()\n"
   ]
  },
  {
   "cell_type": "markdown",
   "metadata": {},
   "source": []
  }
 ],
 "metadata": {
  "kernelspec": {
   "display_name": "Python 3",
   "language": "python",
   "name": "python3"
  },
  "language_info": {
   "codemirror_mode": {
    "name": "ipython",
    "version": 3
   },
   "file_extension": ".py",
   "mimetype": "text/x-python",
   "name": "python",
   "nbconvert_exporter": "python",
   "pygments_lexer": "ipython3",
   "version": "3.8.10"
  },
  "orig_nbformat": 4
 },
 "nbformat": 4,
 "nbformat_minor": 2
}
